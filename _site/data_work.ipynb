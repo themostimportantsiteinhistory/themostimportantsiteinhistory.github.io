{
 "cells": [
  {
   "cell_type": "code",
   "execution_count": 86,
   "metadata": {},
   "outputs": [],
   "source": [
    "from yelpapi import YelpAPI\n",
    "import pandas as pd\n",
    "import yaml"
   ]
  },
  {
   "cell_type": "code",
   "execution_count": 16,
   "metadata": {},
   "outputs": [
    {
     "name": "stdout",
     "output_type": "stream",
     "text": [
      "{'id': '-u02f3nAME2AcjDwioLWsw', 'alias': 'sarabeths-new-york-10', 'name': \"Sarabeth's\", 'image_url': 'https://s3-media3.fl.yelpcdn.com/bphoto/qGN1HN0cg3KeAPOiOY29OQ/o.jpg', 'is_closed': False, 'url': 'https://www.yelp.com/biz/sarabeths-new-york-10?adjust_creative=piqd968yUGHQDL1ei6gj2w&utm_campaign=yelp_api_v3&utm_medium=api_v3_business_search&utm_source=piqd968yUGHQDL1ei6gj2w', 'review_count': 1538, 'categories': [{'alias': 'breakfast_brunch', 'title': 'Breakfast & Brunch'}, {'alias': 'tradamerican', 'title': 'American (Traditional)'}], 'rating': 3.5, 'coordinates': {'latitude': 40.7651603703266, 'longitude': -73.9755199656067}, 'transactions': ['delivery', 'pickup'], 'price': '$$', 'location': {'address1': '40 Central Park S', 'address2': '', 'address3': '', 'city': 'New York', 'zip_code': '10019', 'country': 'US', 'state': 'NY', 'display_address': ['40 Central Park S', 'New York, NY 10019']}, 'phone': '+12128265959', 'display_phone': '(212) 826-5959', 'distance': 6825.8530987241575}\n",
      "https://www.yelp.com/biz/sarabeths-new-york-10?adjust_creative=piqd968yUGHQDL1ei6gj2w&utm_campaign=yelp_api_v3&utm_medium=api_v3_business_search&utm_source=piqd968yUGHQDL1ei6gj2w\n"
     ]
    }
   ],
   "source": [
    "yelp_api = YelpAPI(\"w5JFtwCUKq05GlSpm8cKo51dBYDQ6r9tyzo-qRsKt4wDyB5_ro6gW5gnG9hS6bvnNHNxOQLHfw7o_9S1e86nkvgcU7DQI_sM6GVt9rqcq_rRYKtagQrexuH0zsU0WXYx\")\n",
    "search_results = yelp_api.search_query(term=\"Sarabeths\", location=\"New York, NY\", limit=1)\n",
    "print(search_results['businesses'][0])\n",
    "print(search_results['businesses'][0]['url'])"
   ]
  },
  {
   "cell_type": "code",
   "execution_count": 60,
   "metadata": {},
   "outputs": [],
   "source": [
    "df = pd.read_csv(\"foodrecs.csv\")"
   ]
  },
  {
   "cell_type": "code",
   "execution_count": 83,
   "metadata": {},
   "outputs": [],
   "source": [
    "df.head()\n",
    "df['Yelp'] = df['Yelp'].astype(str)\n",
    "df['Notes'] = df['Notes'].astype(str)"
   ]
  },
  {
   "cell_type": "code",
   "execution_count": 117,
   "metadata": {},
   "outputs": [],
   "source": [
    "for index,rows in df.iterrows():\n",
    "    search_results = yelp_api.search_query(term=rows['Restaurant'], location=\"New York, NY\", limit=1)\n",
    "    try:\n",
    "        name = search_results['businesses'][0]['name']\n",
    "        yelp_link = search_results['businesses'][0]['url']\n",
    "        yelp_address = search_results['businesses'][0]['location']['address1'] + \" \" + search_results['businesses'][0]['location']['city'] \n",
    "        df.at[index, 'Yelp'] = yelp_link\n",
    "        df.at[index, 'Address'] = yelp_address\n",
    "        #check if the notes column is just NaN\n",
    "        if len(rows['Notes']) == 3:\n",
    "            df.at[index, 'Notes'] = \"A great option for \" + rows['Type'].lower() + \".\"\n",
    "    except:\n",
    "        print(rows['Restaurant'] + \" not found.\")\n"
   ]
  },
  {
   "cell_type": "code",
   "execution_count": 118,
   "metadata": {},
   "outputs": [
    {
     "data": {
      "text/html": [
       "<div>\n",
       "<style scoped>\n",
       "    .dataframe tbody tr th:only-of-type {\n",
       "        vertical-align: middle;\n",
       "    }\n",
       "\n",
       "    .dataframe tbody tr th {\n",
       "        vertical-align: top;\n",
       "    }\n",
       "\n",
       "    .dataframe thead th {\n",
       "        text-align: right;\n",
       "    }\n",
       "</style>\n",
       "<table border=\"1\" class=\"dataframe\">\n",
       "  <thead>\n",
       "    <tr style=\"text-align: right;\">\n",
       "      <th></th>\n",
       "      <th>Restaurant</th>\n",
       "      <th>Type</th>\n",
       "      <th>Yelp</th>\n",
       "      <th>Notes</th>\n",
       "      <th>Address</th>\n",
       "    </tr>\n",
       "  </thead>\n",
       "  <tbody>\n",
       "    <tr>\n",
       "      <th>0</th>\n",
       "      <td>Sarabeth's</td>\n",
       "      <td>Brunch</td>\n",
       "      <td>https://www.yelp.com/biz/sarabeths-new-york-5?...</td>\n",
       "      <td>A great option for brunch.</td>\n",
       "      <td>381 Park Ave S New York</td>\n",
       "    </tr>\n",
       "    <tr>\n",
       "      <th>1</th>\n",
       "      <td>Chalk Point Kitchen</td>\n",
       "      <td>Brunch</td>\n",
       "      <td>https://www.yelp.com/biz/chalk-point-kitchen-n...</td>\n",
       "      <td>A great option for brunch.</td>\n",
       "      <td>527 Broome St New York</td>\n",
       "    </tr>\n",
       "    <tr>\n",
       "      <th>2</th>\n",
       "      <td>Root &amp; Bone</td>\n",
       "      <td>Brunch</td>\n",
       "      <td>https://www.yelp.com/biz/root-and-bone-new-yor...</td>\n",
       "      <td>A great option for brunch.</td>\n",
       "      <td>200 E 3rd St New York</td>\n",
       "    </tr>\n",
       "    <tr>\n",
       "      <th>3</th>\n",
       "      <td>Cafe Gitane</td>\n",
       "      <td>Brunch</td>\n",
       "      <td>https://www.yelp.com/biz/caf%C3%A9-gitane-new-...</td>\n",
       "      <td>A great option for brunch.</td>\n",
       "      <td>242 Mott St New York</td>\n",
       "    </tr>\n",
       "    <tr>\n",
       "      <th>4</th>\n",
       "      <td>Balaboosta</td>\n",
       "      <td>Brunch</td>\n",
       "      <td>https://www.yelp.com/biz/balaboosta-new-york?a...</td>\n",
       "      <td>A great option for brunch.</td>\n",
       "      <td>214 Mulberry St New York</td>\n",
       "    </tr>\n",
       "  </tbody>\n",
       "</table>\n",
       "</div>"
      ],
      "text/plain": [
       "            Restaurant    Type  \\\n",
       "0           Sarabeth's  Brunch   \n",
       "1  Chalk Point Kitchen  Brunch   \n",
       "2          Root & Bone  Brunch   \n",
       "3          Cafe Gitane  Brunch   \n",
       "4           Balaboosta  Brunch   \n",
       "\n",
       "                                                Yelp  \\\n",
       "0  https://www.yelp.com/biz/sarabeths-new-york-5?...   \n",
       "1  https://www.yelp.com/biz/chalk-point-kitchen-n...   \n",
       "2  https://www.yelp.com/biz/root-and-bone-new-yor...   \n",
       "3  https://www.yelp.com/biz/caf%C3%A9-gitane-new-...   \n",
       "4  https://www.yelp.com/biz/balaboosta-new-york?a...   \n",
       "\n",
       "                        Notes                   Address  \n",
       "0  A great option for brunch.   381 Park Ave S New York  \n",
       "1  A great option for brunch.    527 Broome St New York  \n",
       "2  A great option for brunch.     200 E 3rd St New York  \n",
       "3  A great option for brunch.      242 Mott St New York  \n",
       "4  A great option for brunch.  214 Mulberry St New York  "
      ]
     },
     "execution_count": 118,
     "metadata": {},
     "output_type": "execute_result"
    }
   ],
   "source": [
    "df.head()"
   ]
  },
  {
   "cell_type": "code",
   "execution_count": 116,
   "metadata": {},
   "outputs": [],
   "source": [
    "df.to_csv(\"ny_yelpdata.csv\")"
   ]
  },
  {
   "cell_type": "code",
   "execution_count": 114,
   "metadata": {},
   "outputs": [
    {
     "data": {
      "text/plain": [
       "array(['Brunch', 'Pizza', 'Frozen Treats', 'Donuts', 'Cakes ', 'Coffee',\n",
       "       'Fusion', 'Dumplings', 'Noodles', 'Pasta', 'Bread', 'Sandwiches',\n",
       "       'French Pastries', 'Viennoiseries', 'Dim Sum',\n",
       "       'Chinese Baked Goods', 'Thai', 'Sweet Treats', 'Indian', 'Bagels',\n",
       "       'Cookies', 'Sushi', 'Boba', 'Sectionless'], dtype=object)"
      ]
     },
     "execution_count": 114,
     "metadata": {},
     "output_type": "execute_result"
    }
   ],
   "source": [
    "#types = pd.factorize(df.Type)\n",
    "food_types = df.Type.unique()\n",
    "food_types"
   ]
  },
  {
   "cell_type": "code",
   "execution_count": 120,
   "metadata": {},
   "outputs": [],
   "source": [
    "for cuisine in food_types:\n",
    "    file_path = \"_data/\" + cuisine.replace(\" \", \"_\").lower() + \".yml\"\n",
    "    output_data = {'data': []}\n",
    "    results = df[df['Type'] == cuisine]\n",
    "    for index, rows in results.iterrows():\n",
    "        #check if the notes column is just NaN\n",
    "        #if len(rows['Notes']) == 3:\n",
    "            #results.at[index, 'Notes'] = \"A great option for \" + rows['Type'].lower() + \".\"\n",
    "        data = {'name': rows['Restaurant'], 'yelp_link': rows['Yelp'], 'notes': rows['Notes'],\n",
    "               'address': rows['Address'], 'type': rows['Type']}\n",
    "        output_data['data'].append(data)\n",
    "    with open(file_path, 'w+') as new_yml_data:\n",
    "        yaml.dump(output_data, new_yml_data, default_flow_style=False)\n",
    "        "
   ]
  },
  {
   "cell_type": "code",
   "execution_count": null,
   "metadata": {},
   "outputs": [],
   "source": [
    "#NOW SF DATA PART"
   ]
  },
  {
   "cell_type": "code",
   "execution_count": 124,
   "metadata": {},
   "outputs": [],
   "source": [
    "sfdf = pd.read_csv(\"sffoodrecs.csv\")\n",
    "sfdf['Yelp'] = sfdf['Yelp'].astype(str)\n",
    "sfdf['Notes'] = sfdf['Notes'].astype(str)"
   ]
  },
  {
   "cell_type": "code",
   "execution_count": 125,
   "metadata": {},
   "outputs": [],
   "source": [
    "for index,rows in sfdf.iterrows():\n",
    "    search_results = yelp_api.search_query(term=rows['Restaurant'], location=\"San Franisco, CA\", limit=1)\n",
    "    try:\n",
    "        name = search_results['businesses'][0]['name']\n",
    "        yelp_link = search_results['businesses'][0]['url']\n",
    "        yelp_address = search_results['businesses'][0]['location']['address1'] + \" \" + search_results['businesses'][0]['location']['city'] \n",
    "        sfdf.at[index, 'Yelp'] = yelp_link\n",
    "        sfdf.at[index, 'Address'] = yelp_address\n",
    "        #check if the notes column is just NaN\n",
    "        if len(rows['Notes']) == 3:\n",
    "            sfdf.at[index, 'Notes'] = \"A great option for \" + rows['Type'].lower() + \".\"\n",
    "    except:\n",
    "        print(rows['Restaurant'] + \" not found.\")\n"
   ]
  },
  {
   "cell_type": "code",
   "execution_count": 126,
   "metadata": {},
   "outputs": [],
   "source": [
    "sfdf.to_csv(\"sf_yelpdata.csv\")"
   ]
  },
  {
   "cell_type": "code",
   "execution_count": 127,
   "metadata": {},
   "outputs": [],
   "source": [
    "sffood_types = sfdf.Type.unique()"
   ]
  },
  {
   "cell_type": "code",
   "execution_count": 128,
   "metadata": {},
   "outputs": [],
   "source": [
    "#for sf data\n",
    "for cuisine in sffood_types:\n",
    "    file_path = \"_data/sf\" + cuisine.replace(\" \", \"_\").lower() + \".yml\"\n",
    "    output_data = {'data': []}\n",
    "    results = sfdf[sfdf['Type'] == cuisine]\n",
    "    for index, rows in results.iterrows():\n",
    "        #check if the notes column is just NaN\n",
    "        #if len(rows['Notes']) == 3:\n",
    "            #results.at[index, 'Notes'] = \"A great option for \" + rows['Type'].lower() + \".\"\n",
    "        data = {'name': rows['Restaurant'], 'yelp_link': rows['Yelp'], 'notes': rows['Notes'],\n",
    "               'address': rows['Address'], 'type': rows['Type']}\n",
    "        output_data['data'].append(data)\n",
    "    with open(file_path, 'w+') as new_yml_data:\n",
    "        yaml.dump(output_data, new_yml_data, default_flow_style=False)\n",
    "        "
   ]
  },
  {
   "cell_type": "code",
   "execution_count": null,
   "metadata": {},
   "outputs": [],
   "source": []
  }
 ],
 "metadata": {
  "kernelspec": {
   "display_name": "Python 3",
   "language": "python",
   "name": "python3"
  },
  "language_info": {
   "codemirror_mode": {
    "name": "ipython",
    "version": 3
   },
   "file_extension": ".py",
   "mimetype": "text/x-python",
   "name": "python",
   "nbconvert_exporter": "python",
   "pygments_lexer": "ipython3",
   "version": "3.6.4"
  }
 },
 "nbformat": 4,
 "nbformat_minor": 2
}
